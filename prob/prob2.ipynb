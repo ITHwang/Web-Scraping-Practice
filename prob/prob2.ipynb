{
 "cells": [
  {
   "cell_type": "markdown",
   "id": "82c9c4a0",
   "metadata": {},
   "source": [
    "### BTS가 유엔에서 연설한 내용을 수집하는 Code를 작성하시오."
   ]
  },
  {
   "cell_type": "code",
   "execution_count": 1,
   "id": "aef6a48b",
   "metadata": {
    "ExecuteTime": {
     "end_time": "2021-08-18T08:13:01.259490Z",
     "start_time": "2021-08-18T08:13:01.116474Z"
    }
   },
   "outputs": [],
   "source": [
    "from urllib.request import urlopen\n",
    "from bs4 import BeautifulSoup"
   ]
  },
  {
   "cell_type": "code",
   "execution_count": 23,
   "id": "59d2a559",
   "metadata": {
    "ExecuteTime": {
     "end_time": "2021-08-18T08:31:35.767447Z",
     "start_time": "2021-08-18T08:31:35.510553Z"
    },
    "scrolled": true
   },
   "outputs": [
    {
     "name": "stdout",
     "output_type": "stream",
     "text": [
      "[<p><strong>RM.</strong><br/><br/>\n",
      "My name is RM, the leader of the group BTS.<br/><br/>\n",
      "Two years ago here, I asked your name.<br/><br/>\n",
      "I urged you to let me hear your voice.<br/><br/>\n",
      "And I let myself be filled with imagination.<br/><br/>\n",
      "As a boy from the small city of Ilsan in Korea,<br/><br/>\n",
      "as a young man standing at the U.N. General Assembly,<br/><br/>\n",
      "as a global citizen of this world,<br/><br/>\n",
      "I imagined the limitless possibilities before all of us, my heart beating with excitement.<br/><br/>\n",
      "But COVID-19 was beyond my imagination.<br/><br/>\n",
      "Our world tour was canceled, all our plans went awry,<br/><br/>\n",
      "and I became alone.<br/><br/>\n",
      "I looked up but couldn’t see the stars at night.</p>, <p><br/><br/><strong>JIMIN.</strong><br/><br/>\n",
      "I felt hopeless. Everything fell apart.<br/><br/>\n",
      "I could only look outside my window,<br/><br/>\n",
      "I could only go to my room.<br/><br/>\n",
      "Yesterday, I was singing and dancing with fans around the world,<br/><br/>\n",
      "and now my world had shrunk to a room.<br/><br/>\n",
      "And then, my friends took my hand.<br/><br/>\n",
      "We comforted each other and talked about what we could do together.</p>, <p><br/><br/><strong>SUGA.</strong><br/><br/>\n",
      "Life became simple, maybe for the first time.<br/><br/>\n",
      "It was a precious time, unwanted but welcome.<br/><br/>\n",
      "I’m used to an entire world shrinking in an instant.<br/><br/>\n",
      "When I’m on tour, I stand in bright lights and loud cheers,<br/><br/>\n",
      "but at night back in my room my world becomes only a few paces wide.<br/><br/>\n",
      "The room itself was small,<br/><br/>\n",
      "but my world and our world reached far and wide.<br/><br/>\n",
      "In this world we had our instruments, our phones and our fans.</p>, <p><br/><br/><strong>V.</strong><br/><br/>\n",
      "But this time it felt different. It felt lonelier and smaller.<br/><br/>\n",
      "Why? I thought for a long time.<br/><br/>\n",
      "I thought, maybe because it became harder to imagine.<br/><br/>\n",
      "I was frustrated and depressed,<br/><br/>\n",
      "but I took notes, wrote songs, and thought about who I was.<br/><br/>\n",
      "I thought,<br/><br/>\n",
      "“If I give up here, then I’m not the star of my life.”<br/><br/>\n",
      "“This is what an awesome person would do.”</p>, <p><br/><br/><strong>j-hope</strong><br/><br/>\n",
      "I don’t know who was first.<br/><br/>\n",
      "We embraced all these emotions and the seven of us began to make music together.<br/><br/>\n",
      "This is where the music came from, and this made us honest.<br/><br/>\n",
      "Our lives are unpredictable.<br/><br/>\n",
      "We don’t know all the answers.<br/><br/>\n",
      "I knew where I wanted to go, but not how I could get there.<br/><br/>\n",
      "All I did to get here was trust ourselves, and do my best, and love what I do.</p>, <p><br/><br/><strong>JIN</strong><br/><br/>\n",
      "I found again the people I love. The other members, my family, my friends.<br/><br/>\n",
      "I found the music I love, and I found myself.<br/><br/>\n",
      "Thinking about the future and trying hard are all important.<br/><br/>\n",
      "But cherishing yourself, encouraging yourself and keeping yourself happy is the most important.<br/><br/>\n",
      "In a world of uncertainty,<br/><br/>\n",
      "we must cherish the importance of “me,” “you” and “us”.<br/><br/>\n",
      "That’s the message of “Love Myself” we talked about for three years,<br/><br/>\n",
      "It’s the message in the lyrics of our song Dynamite: “I’m diamond, you know I glow up”.</p>, <p><br/><br/><strong>JUNG KOOK</strong><br/><br/>\n",
      "One night we were working together.<br/><br/>\n",
      "Namjoon said he couldn’t see the stars any more,<br/><br/>\n",
      "but I saw my face reflected in the window. I saw all of our faces.<br/><br/>\n",
      "Our songs became the stories we wanted to tell each other.<br/><br/>\n",
      "We live in uncertainty, but really, nothing’s changed.<br/><br/>\n",
      "If there’s something I can do, if our voices can give strength to people,<br/>\n",
      "then that’s what we want and that’s what we’ll keep on doing.</p>, <p><br/><br/><strong>RM</strong><br/><br/>\n",
      "When I start feeling lost,<br/><br/>\n",
      "I remember my face in the window, like Jung Kook said.<br/><br/>\n",
      "I remember the words I spoke here two years ago.<br/><br/>\n",
      "“Love yourself, speak yourself”.<br/><br/>\n",
      "Now more than ever, we must try to remember who we are, and face who we are.<br/><br/>\n",
      "We must try to love ourselves, and imagine the future.<br/><br/>\n",
      "BTS will be there with you.<br/><br/>\n",
      "Our tomorrow may be dark, painful, difficult. We might stumble or fall down.<br/><br/>\n",
      "Stars shine brightest when the night is darkest.<br/><br/>\n",
      "If the stars are hidden, we’ll let moonlight guide us.<br/><br/>\n",
      "If even the moon is dark, let our faces be the light that helps us find our way.<br/><br/>\n",
      "Let’s Reimagine our world. We’re huddled together tired, but let’s dream again.<br/><br/>\n",
      "Let’s dream about a future when our worlds can break out of our small rooms again.<br/><br/>\n",
      "It might feel like it’s always night and we’ll always be alone,<br/><br/>\n",
      "But the night is always darkest before the first light of dawn.</p>, <p><br/><br/><em>ALL<br/>\n",
      "Life goes on. Let’s live on.</em></p>]\n"
     ]
    }
   ],
   "source": [
    "url = \"https://www.unicef.org/lac/en/BTS-LoveMyself\"\n",
    "html = urlopen(url)\n",
    "bs = BeautifulSoup(html, 'html.parser')\n",
    "\n",
    "# 발언자마다 <p>로 감싸져있으며 그 안에 이름은 <strong>으로 감싸져있음\n",
    "selector = '''#block-unicef-base-mainpagecontent > article > div.main-content-cntr.selectric-small >\n",
    "div.container-content > div > div > section > div > div > div:nth-child(3) > div > div > div p'''\n",
    "texts = bs.select(selector)\n",
    "print(texts)"
   ]
  },
  {
   "cell_type": "code",
   "execution_count": 24,
   "id": "b12f7ae2",
   "metadata": {
    "ExecuteTime": {
     "end_time": "2021-08-18T08:31:36.251581Z",
     "start_time": "2021-08-18T08:31:36.233591Z"
    }
   },
   "outputs": [],
   "source": [
    "class speaker:\n",
    "    def __init__(name, content):\n",
    "        self.name = name\n",
    "        self.content = content"
   ]
  },
  {
   "cell_type": "code",
   "execution_count": 22,
   "id": "cae6dbdb",
   "metadata": {
    "ExecuteTime": {
     "end_time": "2021-08-18T08:31:07.493230Z",
     "start_time": "2021-08-18T08:31:07.479241Z"
    }
   },
   "outputs": [
    {
     "ename": "SyntaxError",
     "evalue": "unexpected EOF while parsing (<ipython-input-22-e7b76746cc3f>, line 3)",
     "output_type": "error",
     "traceback": [
      "\u001b[1;36m  File \u001b[1;32m\"<ipython-input-22-e7b76746cc3f>\"\u001b[1;36m, line \u001b[1;32m3\u001b[0m\n\u001b[1;33m    for elem in list:\u001b[0m\n\u001b[1;37m                     ^\u001b[0m\n\u001b[1;31mSyntaxError\u001b[0m\u001b[1;31m:\u001b[0m unexpected EOF while parsing\n"
     ]
    }
   ],
   "source": [
    "import re\n",
    "\n",
    "for text in texts:"
   ]
  },
  {
   "cell_type": "code",
   "execution_count": null,
   "id": "50561856",
   "metadata": {},
   "outputs": [],
   "source": []
  }
 ],
 "metadata": {
  "kernelspec": {
   "display_name": "Python 3",
   "language": "python",
   "name": "python3"
  },
  "language_info": {
   "codemirror_mode": {
    "name": "ipython",
    "version": 3
   },
   "file_extension": ".py",
   "mimetype": "text/x-python",
   "name": "python",
   "nbconvert_exporter": "python",
   "pygments_lexer": "ipython3",
   "version": "3.8.8"
  },
  "toc": {
   "base_numbering": 1,
   "nav_menu": {},
   "number_sections": true,
   "sideBar": true,
   "skip_h1_title": false,
   "title_cell": "Table of Contents",
   "title_sidebar": "Contents",
   "toc_cell": false,
   "toc_position": {},
   "toc_section_display": true,
   "toc_window_display": false
  }
 },
 "nbformat": 4,
 "nbformat_minor": 5
}
