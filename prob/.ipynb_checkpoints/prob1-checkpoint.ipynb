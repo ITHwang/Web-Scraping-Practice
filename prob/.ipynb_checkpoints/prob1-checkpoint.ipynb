{
 "cells": [
  {
   "cell_type": "markdown",
   "id": "49a52e8a",
   "metadata": {},
   "source": [
    "### 위키백과 사이트에서 '빅데이터'를 검색한 후 정의에 해당하는 텍스트 내용을 수집하여 콘솔에 출력하는 Code를 작성하시오."
   ]
  },
  {
   "cell_type": "code",
   "execution_count": 62,
   "id": "31175208",
   "metadata": {
    "ExecuteTime": {
     "end_time": "2021-08-18T07:58:00.300904Z",
     "start_time": "2021-08-18T07:57:54.747337Z"
    }
   },
   "outputs": [],
   "source": [
    "from selenium import webdriver\n",
    "from bs4 import BeautifulSoup\n",
    "from selenium.webdriver.common.keys import Keys\n",
    "\n",
    "url = 'https://ko.wikipedia.org/wiki/'\n",
    "driver = webdriver.Chrome('chromedriver.exe')\n",
    "driver.implicitly_wait(3)\n",
    "driver.set_window_size(1400,800)\n",
    "driver.get(url)\n",
    "search = driver.find_element_by_name(\"search\")\n",
    "search.send_keys(\"빅데이터\")\n",
    "search.submit()"
   ]
  },
  {
   "cell_type": "code",
   "execution_count": 63,
   "id": "acc34541",
   "metadata": {
    "ExecuteTime": {
     "end_time": "2021-08-18T07:58:00.363907Z",
     "start_time": "2021-08-18T07:58:00.301904Z"
    }
   },
   "outputs": [
    {
     "data": {
      "text/plain": [
       "'빅 데이터는 통상적으로 사용되는 데이터 수집, 관리 및 처리 소프트웨어의 수용 한계를 넘어서는 크기의 데이터를 말한다.[5] 빅 데이터의 사이즈는 단일 데이터 집합의 크기가 수십 테라바이트에서 수 페타바이트에 이르며, 그 크기가 끊임없이 변화하는 것이 특징이다. 빅데이터라는 용어는 1990년대부터 사용되어 왔으며, 존 매쉬가 이 용어를 대중화하였다[6][7].'"
      ]
     },
     "execution_count": 63,
     "metadata": {},
     "output_type": "execute_result"
    }
   ],
   "source": [
    "content = driver.find_element_by_css_selector(\"#mw-content-text > div.mw-parser-output > h2:nth-child(9)~p\")\n",
    "content.text"
   ]
  }
 ],
 "metadata": {
  "kernelspec": {
   "display_name": "Python 3",
   "language": "python",
   "name": "python3"
  },
  "language_info": {
   "codemirror_mode": {
    "name": "ipython",
    "version": 3
   },
   "file_extension": ".py",
   "mimetype": "text/x-python",
   "name": "python",
   "nbconvert_exporter": "python",
   "pygments_lexer": "ipython3",
   "version": "3.8.8"
  },
  "toc": {
   "base_numbering": 1,
   "nav_menu": {},
   "number_sections": true,
   "sideBar": true,
   "skip_h1_title": false,
   "title_cell": "Table of Contents",
   "title_sidebar": "Contents",
   "toc_cell": false,
   "toc_position": {},
   "toc_section_display": true,
   "toc_window_display": false
  }
 },
 "nbformat": 4,
 "nbformat_minor": 5
}
